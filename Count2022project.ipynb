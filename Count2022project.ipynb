{
 "cells": [
  {
   "cell_type": "code",
   "execution_count": 6,
   "metadata": {
    "ExecuteTime": {
     "end_time": "2022-05-31T13:17:31.482322Z",
     "start_time": "2022-05-31T13:17:15.494852Z"
    }
   },
   "outputs": [],
   "source": [
    "import re, collections   # regular expression\n",
    "import docx \n",
    "import os\n",
    "import codecs\n",
    "import docx\n",
    "import spacy\n",
    "from collections import Counter\n",
    "from numpy import dot\n",
    "from numpy.linalg import norm\n",
    "import matplotlib.pyplot as plt\n",
    "import numpy as np\n",
    "import matplotlib"
   ]
  },
  {
   "cell_type": "code",
   "execution_count": 7,
   "metadata": {
    "ExecuteTime": {
     "end_time": "2022-05-31T13:17:35.127781Z",
     "start_time": "2022-05-31T13:17:35.062262Z"
    }
   },
   "outputs": [
    {
     "name": "stdout",
     "output_type": "stream",
     "text": [
      "{'**[ac]': 0, '**[ae]': 2, '**[ag]': 0, '**[ai]': 1, '**[ak]': 7, '**[bc]': 0, '**[be]': 14, '**[bg]': 0, '**[bi]': 1, '**[bk]': 0}\n",
      "['**yeah right**[be]', '**Yeah**[be]', '**Yeah**[be]', '**OK**[be]', '**oh, OK**[be]', '**OK**[be]', '**Yeah**[ae]', '**Yeah**[be]', '**Yeah**[ae]', '**OK, cool**[be]', '**yeah**[ak]', '**Yeah**[ak]', '**Yeah**[be]', '**yeah**[ak]', '**yeah**[ak]', '**Yeah**[ak]', '**Yeah**[ak]', '**ah, yeah**[be]', '**So yeah**[ak]', '**Yes**[be]', '**Yes**[be]', '**Yeah, yeah**[be]', '**and yeah**[be]', '**Yes, personalities**[ai]', '**yeah, very tough**[bi]']\n"
     ]
    }
   ],
   "source": [
    "data_path = '/Users/gaowei/Desktop/2022PairedSpeak/Coding_Data/Group12_Hanny+Ash.docx'\n",
    "doc = docx.Document(data_path)\n",
    "pattern = re.compile(r'\\*\\*[\\w+ ,~`!@#$%^&*()_+-={}|:;''\"<>.?]{0,100}\\*\\*\\[\\w+\\]')\n",
    " \n",
    "label_count = {'**[ac]':0,'**[ae]':0,'**[ag]':0,'**[ai]':0,'**[ak]':0,'**[bc]':0,'**[be]':0,'**[bg]':0,'**[bi]':0,'**[bk]':0}\n",
    "token = []\n",
    "\n",
    "for i in doc.paragraphs:\n",
    "    paragraph = pattern.findall(i.text)\n",
    "    for j in paragraph:\n",
    "        for label in label_count.keys():\n",
    "            if j.startswith('**') and j.endswith(label):\n",
    "                token.append(j)\n",
    "                label_count[label]+=1\n",
    "\n",
    "print(label_count)\n",
    "print(token)"
   ]
  },
  {
   "cell_type": "code",
   "execution_count": 28,
   "metadata": {
    "ExecuteTime": {
     "end_time": "2022-05-31T13:37:06.479137Z",
     "start_time": "2022-05-31T13:37:06.115439Z"
    }
   },
   "outputs": [
    {
     "name": "stdout",
     "output_type": "stream",
     "text": [
      "Group3_BoHuWenZhou.docx\n",
      "{'**[ac]': 3, '**[ae]': 11, '**[ag]': 0, '**[ai]': 2, '**[ak]': 8, '**[bc]': 13, '**[be]': 19, '**[bg]': 1, '**[bi]': 2, '**[bk]': 0}\n",
      "Group1_YukaJames.docx\n",
      "{'**[ac]': 3, '**[ae]': 2, '**[ag]': 0, '**[ai]': 1, '**[ak]': 2, '**[bc]': 3, '**[be]': 14, '**[bg]': 0, '**[bi]': 0, '**[bk]': 0}\n",
      "Group15XueqipiaoHangyuZhang.doc.docx\n",
      "{'**[ac]': 2, '**[ae]': 18, '**[ag]': 0, '**[ai]': 0, '**[ak]': 8, '**[bc]': 4, '**[be]': 42, '**[bg]': 0, '**[bi]': 0, '**[bk]': 0}\n",
      "Group19XiaoLiWenhuiLi.docx\n",
      "{'**[ac]': 1, '**[ae]': 4, '**[ag]': 0, '**[ai]': 1, '**[ak]': 7, '**[bc]': 8, '**[be]': 12, '**[bg]': 0, '**[bi]': 1, '**[bk]': 0}\n",
      "Group7QihangQiuBenChen.docx\n",
      "{'**[ac]': 0, '**[ae]': 0, '**[ag]': 0, '**[ai]': 0, '**[ak]': 4, '**[bc]': 0, '**[be]': 1, '**[bg]': 1, '**[bi]': 0, '**[bk]': 0}\n",
      "BrainYizhou.docx\n",
      "{'**[ac]': 0, '**[ae]': 4, '**[ag]': 0, '**[ai]': 0, '**[ak]': 3, '**[bc]': 17, '**[be]': 17, '**[bg]': 0, '**[bi]': 0, '**[bk]': 0}\n",
      "Group9RhesusMeihui.docx\n",
      "{'**[ac]': 1, '**[ae]': 2, '**[ag]': 0, '**[ai]': 0, '**[ak]': 6, '**[bc]': 8, '**[be]': 6, '**[bg]': 0, '**[bi]': 2, '**[bk]': 0}\n",
      "Group17ChenyangZhangAlexWang.docx\n",
      "{'**[ac]': 2, '**[ae]': 4, '**[ag]': 0, '**[ai]': 0, '**[ak]': 5, '**[bc]': 8, '**[be]': 5, '**[bg]': 0, '**[bi]': 0, '**[bk]': 0}\n",
      "Group5Suyu BuMengyiSun.docx\n",
      "{'**[ac]': 1, '**[ae]': 6, '**[ag]': 2, '**[ai]': 0, '**[ak]': 15, '**[bc]': 21, '**[be]': 21, '**[bg]': 0, '**[bi]': 4, '**[bk]': 2}\n",
      "Group13_YixingSuSiyiJiang.docx\n",
      "{'**[ac]': 0, '**[ae]': 1, '**[ag]': 0, '**[ai]': 0, '**[ak]': 5, '**[bc]': 13, '**[be]': 16, '**[bg]': 0, '**[bi]': 0, '**[bk]': 0}\n",
      "Group6_JingyiLiangyanZhang.docx\n",
      "{'**[ac]': 1, '**[ae]': 5, '**[ag]': 0, '**[ai]': 5, '**[ak]': 7, '**[bc]': 2, '**[be]': 16, '**[bg]': 1, '**[bi]': 4, '**[bk]': 0}\n",
      "Group10_HaiyuRunki.docx\n",
      "{'**[ac]': 0, '**[ae]': 1, '**[ag]': 0, '**[ai]': 0, '**[ak]': 8, '**[bc]': 8, '**[be]': 9, '**[bg]': 1, '**[bi]': 1, '**[bk]': 0}\n",
      "Group12_Hanny+Ash.docx\n",
      "{'**[ac]': 0, '**[ae]': 2, '**[ag]': 0, '**[ai]': 1, '**[ak]': 7, '**[bc]': 0, '**[be]': 14, '**[bg]': 0, '**[bi]': 1, '**[bk]': 0}\n",
      "Group8Tianye WangJacky.docx\n",
      "{'**[ac]': 2, '**[ae]': 7, '**[ag]': 0, '**[ai]': 2, '**[ak]': 5, '**[bc]': 6, '**[be]': 23, '**[bg]': 2, '**[bi]': 1, '**[bk]': 1}\n",
      "Group14_HansenJun.docx\n",
      "{'**[ac]': 0, '**[ae]': 0, '**[ag]': 0, '**[ai]': 0, '**[ak]': 10, '**[bc]': 11, '**[be]': 26, '**[bg]': 0, '**[bi]': 0, '**[bk]': 0}\n",
      "Group18WenxueLiJiawenCui.docx\n",
      "{'**[ac]': 0, '**[ae]': 4, '**[ag]': 0, '**[ai]': 4, '**[ak]': 8, '**[bc]': 8, '**[be]': 14, '**[bg]': 1, '**[bi]': 4, '**[bk]': 0}\n",
      "Group20_ArronTonhgyi.docx\n",
      "{'**[ac]': 0, '**[ae]': 0, '**[ag]': 0, '**[ai]': 0, '**[ak]': 12, '**[bc]': 19, '**[be]': 26, '**[bg]': 0, '**[bi]': 3, '**[bk]': 1}\n",
      "Group4_NingZelingSu.docx\n",
      "{'**[ac]': 2, '**[ae]': 2, '**[ag]': 0, '**[ai]': 0, '**[ak]': 3, '**[bc]': 2, '**[be]': 2, '**[bg]': 0, '**[bi]': 0, '**[bk]': 0}\n",
      "Group16JialinDaiYuqiZhong.docx\n",
      "{'**[ac]': 1, '**[ae]': 7, '**[ag]': 0, '**[ai]': 0, '**[ak]': 5, '**[bc]': 5, '**[be]': 11, '**[bg]': 1, '**[bi]': 1, '**[bk]': 0}\n",
      "Group11_NingwangXumingWang.docx\n",
      "{'**[ac]': 0, '**[ae]': 0, '**[ag]': 0, '**[ai]': 0, '**[ak]': 6, '**[bc]': 2, '**[be]': 7, '**[bg]': 0, '**[bi]': 2, '**[bk]': 0}\n"
     ]
    }
   ],
   "source": [
    "data_path = '/Users/gaowei/Desktop/2022PairedSpeak/Coding_Data'\n",
    "\n",
    "pattern = re.compile(r'\\*\\*[\\w+ ,~`!@#$%^&*()_+-={}|:;''\"<>.?]{0,100}\\*\\*\\[\\w+\\]')\n",
    " \n",
    "token = []\n",
    "for filename in os.listdir(data_path):\n",
    "    if filename.endswith('.docx'):\n",
    "        print(filename)\n",
    "        label_count = {'**[ac]':0,'**[ae]':0,'**[ag]':0,'**[ai]':0,'**[ak]':0,'**[bc]':0,'**[be]':0,'**[bg]':0,'**[bi]':0,'**[bk]':0}\n",
    "        doc = docx.Document(os.path.join(data_path, filename))\n",
    "        for i in doc.paragraphs:\n",
    "            paragraph = pattern.findall(i.text)\n",
    "            for j in paragraph:\n",
    "                for label in label_count.keys():\n",
    "                    if j.startswith('**') and j.endswith(label):\n",
    "                        token.append(j)\n",
    "                        label_count[label]+=1\n",
    "        print(label_count)\n",
    "    \n",
    "\n",
    "            "
   ]
  },
  {
   "cell_type": "code",
   "execution_count": null,
   "metadata": {},
   "outputs": [],
   "source": []
  }
 ],
 "metadata": {
  "kernelspec": {
   "display_name": "Python 3",
   "language": "python",
   "name": "python3"
  },
  "language_info": {
   "codemirror_mode": {
    "name": "ipython",
    "version": 3
   },
   "file_extension": ".py",
   "mimetype": "text/x-python",
   "name": "python",
   "nbconvert_exporter": "python",
   "pygments_lexer": "ipython3",
   "version": "3.7.6"
  },
  "toc": {
   "base_numbering": 1,
   "nav_menu": {},
   "number_sections": true,
   "sideBar": true,
   "skip_h1_title": false,
   "title_cell": "Table of Contents",
   "title_sidebar": "Contents",
   "toc_cell": false,
   "toc_position": {},
   "toc_section_display": true,
   "toc_window_display": false
  },
  "varInspector": {
   "cols": {
    "lenName": 16,
    "lenType": 16,
    "lenVar": 40
   },
   "kernels_config": {
    "python": {
     "delete_cmd_postfix": "",
     "delete_cmd_prefix": "del ",
     "library": "var_list.py",
     "varRefreshCmd": "print(var_dic_list())"
    },
    "r": {
     "delete_cmd_postfix": ") ",
     "delete_cmd_prefix": "rm(",
     "library": "var_list.r",
     "varRefreshCmd": "cat(var_dic_list()) "
    }
   },
   "types_to_exclude": [
    "module",
    "function",
    "builtin_function_or_method",
    "instance",
    "_Feature"
   ],
   "window_display": false
  }
 },
 "nbformat": 4,
 "nbformat_minor": 4
}
